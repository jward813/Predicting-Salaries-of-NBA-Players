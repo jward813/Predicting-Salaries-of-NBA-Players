{
 "cells": [
  {
   "cell_type": "markdown",
   "metadata": {
    "id": "ssdzXf1vcpq-"
   },
   "source": [
    "# <center> <h1>Project Guidelines</h1> </center>\n",
    "<center> <h1>EIN 4933/6935 Python for Data Science Summer 2020</h1> </center>"
   ]
  },
  {
   "cell_type": "markdown",
   "metadata": {
    "id": "1GTaBftDcpq_"
   },
   "source": [
    "Two major types of problems that machine learning algorithms try to solve are:\n",
    "\n",
    "**Regression** — Predict continuous value of a given data point<br/>\n",
    "**Classification** — Predict the class of the given data point<br/>\n",
    "\n",
    "In you project, choose one type of problem and make sure to follow the steps listed below:"
   ]
  },
  {
   "cell_type": "markdown",
   "metadata": {
    "id": "kqU6ukegcpq_"
   },
   "source": [
    "**Step-1 Problem Definition:**<br/>\n",
    "Choose a problem whose data set is available. This problem should either fall into regression or classification group. You can choose one of the datasets that are listed below. You are also free to choose another dataset that you are familiar with. You must write a summary about the problem and the associated dataset. <br/>\n",
    "**Step-2: Data Cleaning and Preprocessing:**<br/>\n",
    "In this step, you must identify the relevant columns in the dataset that can be used as predictors. Any irrelevant data columns must be excluded from the analysis. If there are any missing values in the dataset, they should be replaced through a data imputation method. Any missing rows should be deleted from the dataset. Each column data type must be converted into an appropriate data type. The data types can be obtained either in data info files or can be determined by inspection.  <br/>\n",
    "**Step-3 (optional): Feature Extraction/Addition:**<br/>\n",
    "In this step, additional features can be added to the existing dataset. The existing features can be altered in a way that can better serve for training the underlying model. You can skip this step if you think there is no room for extracting/adding extra features.<br/>\n",
    "**Step-4: Data Scaling (optional):**<br/>\n",
    "Transform your data so that it fits within a specific scale. For example standardization or normalization. You can skip this step if you think your dataset does not contain features highly varying in magnitudes, units and range.<br/>\n",
    "**Step-5: Data Splitting:**<br/>\n",
    "This step should start with creating two dataframes: response and features. Split these dataframes into train and test parts.<br/>\n",
    "**Step-6: Model Selection, Model Fitting and Model Evaluation:**<br/>\n",
    "Choose an appropriate model that can be used for your problem. You can choose a model that is listed under a given problem group below. You are also free to choose another model that you are familiar with. Fit your train data to your model. Generate predictions over the test data and then evaluate your model by reporting appropriate accuracy metrics.<br/>\n",
    "**Step-7: Report Feature Importance:**<br/>\n",
    "You must report the feature importance results.<br/>\n",
    "**Step-8: Improve Your Results:**<br/>\n",
    "Choose one or multiple different methods to improve your baseline results that you reported in the previous step. For example, you can enumerate multiple different models and recommend the one that gives the best accuracy metrics results. Or you can develop feature elimination strategy that yields better results. You are also free to choose another method that you are familiar with.<br/>"
   ]
  },
  {
   "cell_type": "markdown",
   "metadata": {
    "id": "iC1W6uYVcprA"
   },
   "source": [
    "## Regression Problem\n",
    "Models to consider:<br/>\n",
    "**Multiple Linear Regression**<br/>\n",
    "**Decision Trees**<br/>\n",
    "**Random Forecast**<br/>\n",
    "**Support Vector Machines**<br/>\n",
    "Any other model that can be used for regression problem.<br/>\n",
    "\n",
    "#### Example Data Sets for Regression Problem:\n",
    "**1) Nba:** Predict the salary of an NBA player.<br/> \n",
    "Dowload link: https://sites.google.com/site/yasinunlu/home/research/new1/nba.csv<br/> \n",
    "**2) Automobile Data Set:** Predict car prices.<br/> \n",
    "Dowload link:https://sites.google.com/site/yasinunlu/home/research/new1/AutomobileDataSet.xlsx<br/> \n",
    "More info: https://sites.google.com/site/yasinunlu/home/research/new1/auto_prices_info.txt<br/>\n",
    "**3) Auto Mpg:** Predict the mpg of an automobile.<br/> \n",
    "Dowload link:https://sites.google.com/site/yasinunlu/home/research/new1/mpg.zip"
   ]
  },
  {
   "cell_type": "code",
   "execution_count": null,
   "metadata": {
    "id": "KdljH7KRdwV3"
   },
   "outputs": [],
   "source": []
  },
  {
   "cell_type": "markdown",
   "metadata": {
    "id": "w5z2Dph8cprB"
   },
   "source": [
    "## Classification Problem\n",
    "Models to consider:<br/>\n",
    "**Logistic Regression**<br/>\n",
    "**Decision Trees**<br/>\n",
    "**Random Forest**<br/>\n",
    "**Nearest Neighbor**<br/>\n",
    "**Support Vector Machines**<br/>\n",
    "**Naïve Bayes**<br/>\n",
    "Any other model that can be used for classification problem.<br/>\n",
    "\n",
    "#### Example Data Sets for Classification Problem:\n",
    "**1) Titanic:** Predict whether a passenger survived.<br/> \n",
    "Dowload link: https://sites.google.com/site/yasinunlu/home/research/new1/Titanic_train.csv<br/>\n",
    "**2) Iris:** Predict species name.<br/>\n",
    "Download link: https://sites.google.com/site/yasinunlu/home/research/new1/iris.csv<br/>\n",
    "**3) Adult:** Predict whether a person makes over 50K a year.<br/>\n",
    "Download link: https://sites.google.com/site/yasinunlu/home/research/new1/adult.zip<br/>"
   ]
  },
  {
   "cell_type": "code",
   "execution_count": 6,
   "metadata": {
    "colab": {
     "base_uri": "https://localhost:8080/",
     "height": 204
    },
    "id": "L3fptzaudxej",
    "outputId": "29dba4a2-19a7-4600-ffc1-37e76727c20b"
   },
   "outputs": [
    {
     "data": {
      "text/html": [
       "<div>\n",
       "<style scoped>\n",
       "    .dataframe tbody tr th:only-of-type {\n",
       "        vertical-align: middle;\n",
       "    }\n",
       "\n",
       "    .dataframe tbody tr th {\n",
       "        vertical-align: top;\n",
       "    }\n",
       "\n",
       "    .dataframe thead th {\n",
       "        text-align: right;\n",
       "    }\n",
       "</style>\n",
       "<table border=\"1\" class=\"dataframe\">\n",
       "  <thead>\n",
       "    <tr style=\"text-align: right;\">\n",
       "      <th></th>\n",
       "      <th>Name</th>\n",
       "      <th>Team</th>\n",
       "      <th>Number</th>\n",
       "      <th>Position</th>\n",
       "      <th>Age</th>\n",
       "      <th>Height</th>\n",
       "      <th>Weight</th>\n",
       "      <th>CollegeDegree</th>\n",
       "      <th>Salary</th>\n",
       "    </tr>\n",
       "  </thead>\n",
       "  <tbody>\n",
       "    <tr>\n",
       "      <th>0</th>\n",
       "      <td>Avery Bradley</td>\n",
       "      <td>Boston Celtics</td>\n",
       "      <td>0</td>\n",
       "      <td>PG</td>\n",
       "      <td>25</td>\n",
       "      <td>6-2</td>\n",
       "      <td>180</td>\n",
       "      <td>True</td>\n",
       "      <td>7730337.0</td>\n",
       "    </tr>\n",
       "    <tr>\n",
       "      <th>1</th>\n",
       "      <td>Jae Crowder</td>\n",
       "      <td>Boston Celtics</td>\n",
       "      <td>99</td>\n",
       "      <td>SF</td>\n",
       "      <td>25</td>\n",
       "      <td>6-6</td>\n",
       "      <td>235</td>\n",
       "      <td>True</td>\n",
       "      <td>6796117.0</td>\n",
       "    </tr>\n",
       "    <tr>\n",
       "      <th>2</th>\n",
       "      <td>John Holland</td>\n",
       "      <td>Boston Celtics</td>\n",
       "      <td>30</td>\n",
       "      <td>SG</td>\n",
       "      <td>27</td>\n",
       "      <td>6-5</td>\n",
       "      <td>205</td>\n",
       "      <td>True</td>\n",
       "      <td>NaN</td>\n",
       "    </tr>\n",
       "    <tr>\n",
       "      <th>3</th>\n",
       "      <td>R.J. Hunter</td>\n",
       "      <td>Boston Celtics</td>\n",
       "      <td>28</td>\n",
       "      <td>SG</td>\n",
       "      <td>22</td>\n",
       "      <td>6-5</td>\n",
       "      <td>185</td>\n",
       "      <td>True</td>\n",
       "      <td>1148640.0</td>\n",
       "    </tr>\n",
       "    <tr>\n",
       "      <th>4</th>\n",
       "      <td>Jonas Jerebko</td>\n",
       "      <td>Boston Celtics</td>\n",
       "      <td>8</td>\n",
       "      <td>PF</td>\n",
       "      <td>29</td>\n",
       "      <td>6-10</td>\n",
       "      <td>231</td>\n",
       "      <td>False</td>\n",
       "      <td>5000000.0</td>\n",
       "    </tr>\n",
       "  </tbody>\n",
       "</table>\n",
       "</div>"
      ],
      "text/plain": [
       "            Name            Team  Number Position  Age Height  Weight  \\\n",
       "0  Avery Bradley  Boston Celtics       0       PG   25    6-2     180   \n",
       "1    Jae Crowder  Boston Celtics      99       SF   25    6-6     235   \n",
       "2   John Holland  Boston Celtics      30       SG   27    6-5     205   \n",
       "3    R.J. Hunter  Boston Celtics      28       SG   22    6-5     185   \n",
       "4  Jonas Jerebko  Boston Celtics       8       PF   29   6-10     231   \n",
       "\n",
       "   CollegeDegree     Salary  \n",
       "0           True  7730337.0  \n",
       "1           True  6796117.0  \n",
       "2           True        NaN  \n",
       "3           True  1148640.0  \n",
       "4          False  5000000.0  "
      ]
     },
     "execution_count": 6,
     "metadata": {},
     "output_type": "execute_result"
    }
   ],
   "source": [
    "#Importing DataFrame and chaning college to a true/false column to see if they have a college degree or not.\n",
    "\n",
    "\n",
    "import pandas as pd\n",
    "NBA = pd.read_csv('https://sites.google.com/site/yasinunlu/home/research/new1/nba.csv')\n",
    "NBA[\"College\"].fillna(\"None\", inplace = True)\n",
    "\n",
    "nba_x = pd.DataFrame(NBA)\n",
    "CollegeDegree = []\n",
    "for row in nba_x[\"College\"]:\n",
    "  if row == \"None\" : CollegeDegree.append(False)\n",
    "  else: CollegeDegree.append(True)\n",
    "\n",
    "nba_x[\"CollegeDegree\"] = CollegeDegree\n",
    "\n",
    "NBA_new = nba_x[['Name','Team','Number','Position','Age','Height','Weight','CollegeDegree','Salary']]\n",
    "NBA_new.head()"
   ]
  },
  {
   "cell_type": "code",
   "execution_count": 7,
   "metadata": {
    "colab": {
     "base_uri": "https://localhost:8080/",
     "height": 187
    },
    "id": "ogdO8jjziKSh",
    "outputId": "7765bd95-43c8-494a-a7bc-dbfb6a744f26"
   },
   "outputs": [
    {
     "data": {
      "text/plain": [
       "Name              0\n",
       "Team              0\n",
       "Number            0\n",
       "Position          0\n",
       "Age               0\n",
       "Height            0\n",
       "Weight            0\n",
       "CollegeDegree     0\n",
       "Salary           11\n",
       "dtype: int64"
      ]
     },
     "execution_count": 7,
     "metadata": {},
     "output_type": "execute_result"
    }
   ],
   "source": [
    "#2 Checking for Null Values\n",
    "\n",
    "NBA_new.isnull().sum()"
   ]
  },
  {
   "cell_type": "code",
   "execution_count": 8,
   "metadata": {
    "colab": {
     "base_uri": "https://localhost:8080/",
     "height": 119
    },
    "id": "sTKe3EfLitxE",
    "outputId": "e1d66e92-cc46-4e14-8da3-04fe7b3376fb"
   },
   "outputs": [
    {
     "name": "stderr",
     "output_type": "stream",
     "text": [
      "<ipython-input-8-c82e07939c75>:10: SettingWithCopyWarning: \n",
      "A value is trying to be set on a copy of a slice from a DataFrame.\n",
      "Try using .loc[row_indexer,col_indexer] = value instead\n",
      "\n",
      "See the caveats in the documentation: https://pandas.pydata.org/pandas-docs/stable/user_guide/indexing.html#returning-a-view-versus-a-copy\n",
      "  NBA_new[k]=X\n"
     ]
    }
   ],
   "source": [
    "#2 Replacing Null values in Salary with the mean\n",
    "\n",
    "import numpy as np\n",
    "from sklearn.impute import SimpleImputer\n",
    "A=NBA_new[['Salary']]\n",
    "for k in A:\n",
    "  X=pd.DataFrame(data=NBA_new, columns=[k])\n",
    "  imputer = SimpleImputer(missing_values = np.NaN, strategy = 'mean')\n",
    "  X=imputer.fit_transform(X)\n",
    "  NBA_new[k]=X "
   ]
  },
  {
   "cell_type": "code",
   "execution_count": 9,
   "metadata": {
    "colab": {
     "base_uri": "https://localhost:8080/",
     "height": 187
    },
    "id": "Zh-AOS5_jLd6",
    "outputId": "e138a5a6-8058-4eec-b2bc-5e5700b6de96"
   },
   "outputs": [
    {
     "data": {
      "text/plain": [
       "Name             0\n",
       "Team             0\n",
       "Number           0\n",
       "Position         0\n",
       "Age              0\n",
       "Height           0\n",
       "Weight           0\n",
       "CollegeDegree    0\n",
       "Salary           0\n",
       "dtype: int64"
      ]
     },
     "execution_count": 9,
     "metadata": {},
     "output_type": "execute_result"
    }
   ],
   "source": [
    "#Checking again for Null values after imputer method has been applied\n",
    "NBA_new.isnull().sum()"
   ]
  },
  {
   "cell_type": "code",
   "execution_count": 10,
   "metadata": {
    "colab": {
     "base_uri": "https://localhost:8080/",
     "height": 419
    },
    "id": "ojS2c0JOjUYo",
    "outputId": "879e9908-cfa8-4e2e-90ba-f3e4e287f8b2"
   },
   "outputs": [
    {
     "data": {
      "text/html": [
       "<div>\n",
       "<style scoped>\n",
       "    .dataframe tbody tr th:only-of-type {\n",
       "        vertical-align: middle;\n",
       "    }\n",
       "\n",
       "    .dataframe tbody tr th {\n",
       "        vertical-align: top;\n",
       "    }\n",
       "\n",
       "    .dataframe thead th {\n",
       "        text-align: right;\n",
       "    }\n",
       "</style>\n",
       "<table border=\"1\" class=\"dataframe\">\n",
       "  <thead>\n",
       "    <tr style=\"text-align: right;\">\n",
       "      <th></th>\n",
       "      <th>Team</th>\n",
       "      <th>Position</th>\n",
       "      <th>Age</th>\n",
       "      <th>Height</th>\n",
       "      <th>Weight</th>\n",
       "      <th>CollegeDegree</th>\n",
       "      <th>Salary</th>\n",
       "    </tr>\n",
       "  </thead>\n",
       "  <tbody>\n",
       "    <tr>\n",
       "      <th>0</th>\n",
       "      <td>Boston Celtics</td>\n",
       "      <td>PG</td>\n",
       "      <td>25</td>\n",
       "      <td>6-2</td>\n",
       "      <td>180</td>\n",
       "      <td>True</td>\n",
       "      <td>7.730337e+06</td>\n",
       "    </tr>\n",
       "    <tr>\n",
       "      <th>1</th>\n",
       "      <td>Boston Celtics</td>\n",
       "      <td>SF</td>\n",
       "      <td>25</td>\n",
       "      <td>6-6</td>\n",
       "      <td>235</td>\n",
       "      <td>True</td>\n",
       "      <td>6.796117e+06</td>\n",
       "    </tr>\n",
       "    <tr>\n",
       "      <th>2</th>\n",
       "      <td>Boston Celtics</td>\n",
       "      <td>SG</td>\n",
       "      <td>27</td>\n",
       "      <td>6-5</td>\n",
       "      <td>205</td>\n",
       "      <td>True</td>\n",
       "      <td>4.842684e+06</td>\n",
       "    </tr>\n",
       "    <tr>\n",
       "      <th>3</th>\n",
       "      <td>Boston Celtics</td>\n",
       "      <td>SG</td>\n",
       "      <td>22</td>\n",
       "      <td>6-5</td>\n",
       "      <td>185</td>\n",
       "      <td>True</td>\n",
       "      <td>1.148640e+06</td>\n",
       "    </tr>\n",
       "    <tr>\n",
       "      <th>4</th>\n",
       "      <td>Boston Celtics</td>\n",
       "      <td>PF</td>\n",
       "      <td>29</td>\n",
       "      <td>6-10</td>\n",
       "      <td>231</td>\n",
       "      <td>False</td>\n",
       "      <td>5.000000e+06</td>\n",
       "    </tr>\n",
       "    <tr>\n",
       "      <th>...</th>\n",
       "      <td>...</td>\n",
       "      <td>...</td>\n",
       "      <td>...</td>\n",
       "      <td>...</td>\n",
       "      <td>...</td>\n",
       "      <td>...</td>\n",
       "      <td>...</td>\n",
       "    </tr>\n",
       "    <tr>\n",
       "      <th>452</th>\n",
       "      <td>Utah Jazz</td>\n",
       "      <td>PF</td>\n",
       "      <td>20</td>\n",
       "      <td>6-10</td>\n",
       "      <td>234</td>\n",
       "      <td>True</td>\n",
       "      <td>2.239800e+06</td>\n",
       "    </tr>\n",
       "    <tr>\n",
       "      <th>453</th>\n",
       "      <td>Utah Jazz</td>\n",
       "      <td>PG</td>\n",
       "      <td>26</td>\n",
       "      <td>6-3</td>\n",
       "      <td>203</td>\n",
       "      <td>True</td>\n",
       "      <td>2.433333e+06</td>\n",
       "    </tr>\n",
       "    <tr>\n",
       "      <th>454</th>\n",
       "      <td>Utah Jazz</td>\n",
       "      <td>PG</td>\n",
       "      <td>24</td>\n",
       "      <td>6-1</td>\n",
       "      <td>179</td>\n",
       "      <td>False</td>\n",
       "      <td>9.000000e+05</td>\n",
       "    </tr>\n",
       "    <tr>\n",
       "      <th>455</th>\n",
       "      <td>Utah Jazz</td>\n",
       "      <td>C</td>\n",
       "      <td>26</td>\n",
       "      <td>7-3</td>\n",
       "      <td>256</td>\n",
       "      <td>False</td>\n",
       "      <td>2.900000e+06</td>\n",
       "    </tr>\n",
       "    <tr>\n",
       "      <th>456</th>\n",
       "      <td>Utah Jazz</td>\n",
       "      <td>C</td>\n",
       "      <td>26</td>\n",
       "      <td>7-1</td>\n",
       "      <td>231</td>\n",
       "      <td>True</td>\n",
       "      <td>9.472760e+05</td>\n",
       "    </tr>\n",
       "  </tbody>\n",
       "</table>\n",
       "<p>457 rows × 7 columns</p>\n",
       "</div>"
      ],
      "text/plain": [
       "               Team Position  Age Height  Weight  CollegeDegree        Salary\n",
       "0    Boston Celtics       PG   25    6-2     180           True  7.730337e+06\n",
       "1    Boston Celtics       SF   25    6-6     235           True  6.796117e+06\n",
       "2    Boston Celtics       SG   27    6-5     205           True  4.842684e+06\n",
       "3    Boston Celtics       SG   22    6-5     185           True  1.148640e+06\n",
       "4    Boston Celtics       PF   29   6-10     231          False  5.000000e+06\n",
       "..              ...      ...  ...    ...     ...            ...           ...\n",
       "452       Utah Jazz       PF   20   6-10     234           True  2.239800e+06\n",
       "453       Utah Jazz       PG   26    6-3     203           True  2.433333e+06\n",
       "454       Utah Jazz       PG   24    6-1     179          False  9.000000e+05\n",
       "455       Utah Jazz        C   26    7-3     256          False  2.900000e+06\n",
       "456       Utah Jazz        C   26    7-1     231           True  9.472760e+05\n",
       "\n",
       "[457 rows x 7 columns]"
      ]
     },
     "execution_count": 10,
     "metadata": {},
     "output_type": "execute_result"
    }
   ],
   "source": [
    "#2 Dropping columns that I dont need\n",
    "\n",
    "NBA_new = NBA_new.drop(['Name', 'Number'], axis = 1)\n",
    "NBA_new"
   ]
  },
  {
   "cell_type": "code",
   "execution_count": 11,
   "metadata": {
    "colab": {
     "base_uri": "https://localhost:8080/",
     "height": 204
    },
    "id": "MMB_Tz5olxh-",
    "outputId": "b09ca2cb-d353-4d6c-97e5-f652781eeecd"
   },
   "outputs": [
    {
     "data": {
      "text/html": [
       "<div>\n",
       "<style scoped>\n",
       "    .dataframe tbody tr th:only-of-type {\n",
       "        vertical-align: middle;\n",
       "    }\n",
       "\n",
       "    .dataframe tbody tr th {\n",
       "        vertical-align: top;\n",
       "    }\n",
       "\n",
       "    .dataframe thead th {\n",
       "        text-align: right;\n",
       "    }\n",
       "</style>\n",
       "<table border=\"1\" class=\"dataframe\">\n",
       "  <thead>\n",
       "    <tr style=\"text-align: right;\">\n",
       "      <th></th>\n",
       "      <th>Team</th>\n",
       "      <th>Position</th>\n",
       "      <th>Age</th>\n",
       "      <th>Height</th>\n",
       "      <th>Weight</th>\n",
       "      <th>CollegeDegree</th>\n",
       "      <th>Salary</th>\n",
       "    </tr>\n",
       "  </thead>\n",
       "  <tbody>\n",
       "    <tr>\n",
       "      <th>0</th>\n",
       "      <td>Boston Celtics</td>\n",
       "      <td>PG</td>\n",
       "      <td>25</td>\n",
       "      <td>74</td>\n",
       "      <td>180</td>\n",
       "      <td>True</td>\n",
       "      <td>7.730337e+06</td>\n",
       "    </tr>\n",
       "    <tr>\n",
       "      <th>1</th>\n",
       "      <td>Boston Celtics</td>\n",
       "      <td>SF</td>\n",
       "      <td>25</td>\n",
       "      <td>78</td>\n",
       "      <td>235</td>\n",
       "      <td>True</td>\n",
       "      <td>6.796117e+06</td>\n",
       "    </tr>\n",
       "    <tr>\n",
       "      <th>2</th>\n",
       "      <td>Boston Celtics</td>\n",
       "      <td>SG</td>\n",
       "      <td>27</td>\n",
       "      <td>77</td>\n",
       "      <td>205</td>\n",
       "      <td>True</td>\n",
       "      <td>4.842684e+06</td>\n",
       "    </tr>\n",
       "    <tr>\n",
       "      <th>3</th>\n",
       "      <td>Boston Celtics</td>\n",
       "      <td>SG</td>\n",
       "      <td>22</td>\n",
       "      <td>77</td>\n",
       "      <td>185</td>\n",
       "      <td>True</td>\n",
       "      <td>1.148640e+06</td>\n",
       "    </tr>\n",
       "    <tr>\n",
       "      <th>4</th>\n",
       "      <td>Boston Celtics</td>\n",
       "      <td>PF</td>\n",
       "      <td>29</td>\n",
       "      <td>82</td>\n",
       "      <td>231</td>\n",
       "      <td>False</td>\n",
       "      <td>5.000000e+06</td>\n",
       "    </tr>\n",
       "  </tbody>\n",
       "</table>\n",
       "</div>"
      ],
      "text/plain": [
       "             Team Position  Age  Height  Weight  CollegeDegree        Salary\n",
       "0  Boston Celtics       PG   25      74     180           True  7.730337e+06\n",
       "1  Boston Celtics       SF   25      78     235           True  6.796117e+06\n",
       "2  Boston Celtics       SG   27      77     205           True  4.842684e+06\n",
       "3  Boston Celtics       SG   22      77     185           True  1.148640e+06\n",
       "4  Boston Celtics       PF   29      82     231          False  5.000000e+06"
      ]
     },
     "execution_count": 11,
     "metadata": {},
     "output_type": "execute_result"
    }
   ],
   "source": [
    "#2 Converting height column to inches \n",
    "newheight = []\n",
    "\n",
    "for element in NBA_new['Height']:\n",
    "    k = str(element) #create a string out of object\n",
    "    ft = k[0]\n",
    "    inch = k[2:]\n",
    "    feetInches = 12*int(ft) + int(inch)\n",
    "    newheight.append(feetInches)\n",
    "  \n",
    "NBA_new[\"Height\"] = newheight\n",
    "NBA_new.head()"
   ]
  },
  {
   "cell_type": "code",
   "execution_count": 12,
   "metadata": {
    "colab": {
     "base_uri": "https://localhost:8080/",
     "height": 204
    },
    "id": "98JAtlWImf_Y",
    "outputId": "adcd95eb-7494-463d-bdab-6a5141ce4752"
   },
   "outputs": [
    {
     "data": {
      "text/html": [
       "<div>\n",
       "<style scoped>\n",
       "    .dataframe tbody tr th:only-of-type {\n",
       "        vertical-align: middle;\n",
       "    }\n",
       "\n",
       "    .dataframe tbody tr th {\n",
       "        vertical-align: top;\n",
       "    }\n",
       "\n",
       "    .dataframe thead th {\n",
       "        text-align: right;\n",
       "    }\n",
       "</style>\n",
       "<table border=\"1\" class=\"dataframe\">\n",
       "  <thead>\n",
       "    <tr style=\"text-align: right;\">\n",
       "      <th></th>\n",
       "      <th>Team</th>\n",
       "      <th>Position</th>\n",
       "      <th>Age</th>\n",
       "      <th>Height</th>\n",
       "      <th>Weight</th>\n",
       "      <th>CollegeDegree</th>\n",
       "      <th>Salary</th>\n",
       "    </tr>\n",
       "  </thead>\n",
       "  <tbody>\n",
       "    <tr>\n",
       "      <th>0</th>\n",
       "      <td>1</td>\n",
       "      <td>2</td>\n",
       "      <td>25</td>\n",
       "      <td>74</td>\n",
       "      <td>180</td>\n",
       "      <td>1</td>\n",
       "      <td>7.730337e+06</td>\n",
       "    </tr>\n",
       "    <tr>\n",
       "      <th>1</th>\n",
       "      <td>1</td>\n",
       "      <td>3</td>\n",
       "      <td>25</td>\n",
       "      <td>78</td>\n",
       "      <td>235</td>\n",
       "      <td>1</td>\n",
       "      <td>6.796117e+06</td>\n",
       "    </tr>\n",
       "    <tr>\n",
       "      <th>2</th>\n",
       "      <td>1</td>\n",
       "      <td>4</td>\n",
       "      <td>27</td>\n",
       "      <td>77</td>\n",
       "      <td>205</td>\n",
       "      <td>1</td>\n",
       "      <td>4.842684e+06</td>\n",
       "    </tr>\n",
       "    <tr>\n",
       "      <th>3</th>\n",
       "      <td>1</td>\n",
       "      <td>4</td>\n",
       "      <td>22</td>\n",
       "      <td>77</td>\n",
       "      <td>185</td>\n",
       "      <td>1</td>\n",
       "      <td>1.148640e+06</td>\n",
       "    </tr>\n",
       "    <tr>\n",
       "      <th>4</th>\n",
       "      <td>1</td>\n",
       "      <td>1</td>\n",
       "      <td>29</td>\n",
       "      <td>82</td>\n",
       "      <td>231</td>\n",
       "      <td>0</td>\n",
       "      <td>5.000000e+06</td>\n",
       "    </tr>\n",
       "  </tbody>\n",
       "</table>\n",
       "</div>"
      ],
      "text/plain": [
       "   Team  Position  Age  Height  Weight  CollegeDegree        Salary\n",
       "0     1         2   25      74     180              1  7.730337e+06\n",
       "1     1         3   25      78     235              1  6.796117e+06\n",
       "2     1         4   27      77     205              1  4.842684e+06\n",
       "3     1         4   22      77     185              1  1.148640e+06\n",
       "4     1         1   29      82     231              0  5.000000e+06"
      ]
     },
     "execution_count": 12,
     "metadata": {},
     "output_type": "execute_result"
    }
   ],
   "source": [
    "#Converting Categorical Data into integers\n",
    "\n",
    "from sklearn.preprocessing import LabelEncoder\n",
    "LE = LabelEncoder()\n",
    "NBA_new['Team'] = LE.fit_transform(NBA_new['Team'])\n",
    "NBA_new['Position'] = LE.fit_transform(NBA_new['Position'])\n",
    "NBA_new['CollegeDegree'] = LE.fit_transform(NBA_new['CollegeDegree'])\n",
    "\n",
    "NBA_new.head()"
   ]
  },
  {
   "cell_type": "code",
   "execution_count": 13,
   "metadata": {
    "id": "OADLmHRXoH5J"
   },
   "outputs": [],
   "source": [
    "#4 Normalizing the Data\n",
    "\n",
    "from sklearn.preprocessing import MinMaxScaler\n",
    "scaler = MinMaxScaler() \n",
    "df = scaler.fit_transform(NBA_new)\n",
    "NBA_normalized = pd.DataFrame(df, columns = NBA_new.columns.to_list())\n"
   ]
  },
  {
   "cell_type": "code",
   "execution_count": 14,
   "metadata": {
    "id": "Wcrxqb2zohC4"
   },
   "outputs": [],
   "source": [
    "#5 Data Splitting\n",
    "\n",
    "response = NBA_normalized[['Salary']]\n",
    "feature = NBA_normalized.iloc[:,0:6]\n",
    "\n",
    "from sklearn.model_selection import train_test_split\n",
    "split = train_test_split(feature, response, test_size=0.2, random_state=2)\n",
    "\n",
    "feature_train = split[0]\n",
    "feature_test = split[1]\n",
    "response_train = split[2]\n",
    "response_test = split[3]\n",
    "\n"
   ]
  },
  {
   "cell_type": "code",
   "execution_count": 21,
   "metadata": {
    "colab": {
     "base_uri": "https://localhost:8080/",
     "height": 71
    },
    "id": "RiXVmLEnpo6L",
    "outputId": "aee66e4b-29a0-45a1-b866-9ef6ec509b68"
   },
   "outputs": [
    {
     "name": "stderr",
     "output_type": "stream",
     "text": [
      "<ipython-input-21-80d568d60d6b>:29: DataConversionWarning: A column-vector y was passed when a 1d array was expected. Please change the shape of y to (n_samples,), for example using ravel().\n",
      "  regressor.fit(feature_train, response_train)\n"
     ]
    }
   ],
   "source": [
    "#6 Model Selection\n",
    "#Running multiple regression models\n",
    "\n",
    "from sklearn.tree import DecisionTreeRegressor\n",
    "from sklearn.ensemble import RandomForestRegressor\n",
    "import numpy as np\n",
    "from sklearn import metrics\n",
    "from sklearn.linear_model import LinearRegression\n",
    "\n",
    "\n",
    "models_list = [RandomForestRegressor(), \n",
    "               DecisionTreeRegressor(), \n",
    "               LinearRegression(),] \n",
    "\n",
    "# we put model functions in a list\n",
    "\n",
    "model_names = ['Random Forest', \n",
    "               'Decision Tree', \n",
    "               'Multiple Linear Regression']\n",
    "# model names in a list\n",
    "\n",
    "mae_list = []\n",
    "mse_list = []\n",
    "rmse_list = []\n",
    "results_dict = {}\n",
    "\n",
    "for model in range(len(models_list)):\n",
    "    regressor = models_list[model]\n",
    "    regressor.fit(feature_train, response_train)\n",
    "    response_pred=regressor.predict(feature_test)\n",
    "    mae_list.append(metrics.mean_absolute_error(response_pred, response_test))\n",
    "    mse_list.append(metrics.mean_squared_error(response_pred, response_test))\n",
    "    rmse_list.append(np.sqrt(metrics.mean_squared_error(response_pred, response_test)))\n",
    "    \n",
    "result_dict = {'Model Name':model_names, \n",
    "               'Mean Absolute Error':mae_list, \n",
    "               'Mean Squared Error':mse_list,\n",
    "               'Root Mean Squared Error':rmse_list}"
   ]
  },
  {
   "cell_type": "code",
   "execution_count": 22,
   "metadata": {
    "colab": {
     "base_uri": "https://localhost:8080/",
     "height": 204
    },
    "id": "hklKRBNozN6x",
    "outputId": "cc99afba-1a93-47d2-975a-0d33cdb8cb52"
   },
   "outputs": [
    {
     "data": {
      "text/html": [
       "<div>\n",
       "<style scoped>\n",
       "    .dataframe tbody tr th:only-of-type {\n",
       "        vertical-align: middle;\n",
       "    }\n",
       "\n",
       "    .dataframe tbody tr th {\n",
       "        vertical-align: top;\n",
       "    }\n",
       "\n",
       "    .dataframe thead th {\n",
       "        text-align: right;\n",
       "    }\n",
       "</style>\n",
       "<table border=\"1\" class=\"dataframe\">\n",
       "  <thead>\n",
       "    <tr style=\"text-align: right;\">\n",
       "      <th></th>\n",
       "      <th>Model Name</th>\n",
       "      <th>Mean Absolute Error</th>\n",
       "      <th>Mean Squared Error</th>\n",
       "      <th>Root Mean Squared Error</th>\n",
       "    </tr>\n",
       "  </thead>\n",
       "  <tbody>\n",
       "    <tr>\n",
       "      <th>0</th>\n",
       "      <td>Random Forest</td>\n",
       "      <td>0.152407</td>\n",
       "      <td>0.046451</td>\n",
       "      <td>0.215524</td>\n",
       "    </tr>\n",
       "    <tr>\n",
       "      <th>1</th>\n",
       "      <td>Decision Tree</td>\n",
       "      <td>0.192586</td>\n",
       "      <td>0.079984</td>\n",
       "      <td>0.282815</td>\n",
       "    </tr>\n",
       "    <tr>\n",
       "      <th>2</th>\n",
       "      <td>Multiple Linear Regression</td>\n",
       "      <td>0.130149</td>\n",
       "      <td>0.034919</td>\n",
       "      <td>0.186867</td>\n",
       "    </tr>\n",
       "  </tbody>\n",
       "</table>\n",
       "</div>"
      ],
      "text/plain": [
       "                   Model Name  Mean Absolute Error  Mean Squared Error  \\\n",
       "0               Random Forest             0.152407            0.046451   \n",
       "1               Decision Tree             0.192586            0.079984   \n",
       "2  Multiple Linear Regression             0.130149            0.034919   \n",
       "\n",
       "   Root Mean Squared Error  \n",
       "0                 0.215524  \n",
       "1                 0.282815  \n",
       "2                 0.186867  "
      ]
     },
     "execution_count": 22,
     "metadata": {},
     "output_type": "execute_result"
    }
   ],
   "source": [
    "#Results\n",
    "#Multiple Linear Regression was found to be the best \n",
    "\n",
    "Results = pd.DataFrame(result_dict)\n",
    "Results "
   ]
  },
  {
   "cell_type": "code",
   "execution_count": 23,
   "metadata": {
    "colab": {
     "base_uri": "https://localhost:8080/",
     "height": 119
    },
    "id": "54tF733Hz95W",
    "outputId": "99b1a9c0-4a6c-47c7-ddef-43c72a5a084d"
   },
   "outputs": [
    {
     "name": "stdout",
     "output_type": "stream",
     "text": [
      "Team: -0.03360\n",
      "Position: -0.02423\n",
      "Age: 0.12669\n",
      "Height: -0.18599\n",
      "Weight: 0.30147\n",
      "CollegeDegree: -0.02199\n"
     ]
    }
   ],
   "source": [
    "#7 Reporting Feature importance\n",
    "\n",
    "from sklearn.linear_model import LinearRegression\n",
    "LR = LinearRegression()\n",
    "LR.fit(feature_train, response_train)\n",
    "\n",
    "importance = LR.coef_[0]\n",
    "feature_names = NBA_normalized.columns.to_list()\n",
    "feature_names.remove('Salary')\n",
    "# summarize feature importance\n",
    "for i, score in enumerate(importance):\n",
    "    print('%s: %.5f' % (feature_names[i], score))"
   ]
  },
  {
   "cell_type": "code",
   "execution_count": 24,
   "metadata": {
    "colab": {
     "base_uri": "https://localhost:8080/",
     "height": 419
    },
    "id": "GfdKNfRbzQRh",
    "outputId": "4e65b7e0-e07b-4351-f0f4-14cdfe460131"
   },
   "outputs": [
    {
     "data": {
      "text/html": [
       "<div>\n",
       "<style scoped>\n",
       "    .dataframe tbody tr th:only-of-type {\n",
       "        vertical-align: middle;\n",
       "    }\n",
       "\n",
       "    .dataframe tbody tr th {\n",
       "        vertical-align: top;\n",
       "    }\n",
       "\n",
       "    .dataframe thead th {\n",
       "        text-align: right;\n",
       "    }\n",
       "</style>\n",
       "<table border=\"1\" class=\"dataframe\">\n",
       "  <thead>\n",
       "    <tr style=\"text-align: right;\">\n",
       "      <th></th>\n",
       "      <th>Team</th>\n",
       "      <th>Position</th>\n",
       "      <th>Age</th>\n",
       "      <th>Height</th>\n",
       "      <th>Weight</th>\n",
       "      <th>Salary</th>\n",
       "    </tr>\n",
       "  </thead>\n",
       "  <tbody>\n",
       "    <tr>\n",
       "      <th>0</th>\n",
       "      <td>0.034483</td>\n",
       "      <td>0.50</td>\n",
       "      <td>0.285714</td>\n",
       "      <td>0.277778</td>\n",
       "      <td>0.130137</td>\n",
       "      <td>0.308359</td>\n",
       "    </tr>\n",
       "    <tr>\n",
       "      <th>1</th>\n",
       "      <td>0.034483</td>\n",
       "      <td>0.75</td>\n",
       "      <td>0.285714</td>\n",
       "      <td>0.500000</td>\n",
       "      <td>0.506849</td>\n",
       "      <td>0.270944</td>\n",
       "    </tr>\n",
       "    <tr>\n",
       "      <th>2</th>\n",
       "      <td>0.034483</td>\n",
       "      <td>1.00</td>\n",
       "      <td>0.380952</td>\n",
       "      <td>0.444444</td>\n",
       "      <td>0.301370</td>\n",
       "      <td>0.192710</td>\n",
       "    </tr>\n",
       "    <tr>\n",
       "      <th>3</th>\n",
       "      <td>0.034483</td>\n",
       "      <td>1.00</td>\n",
       "      <td>0.142857</td>\n",
       "      <td>0.444444</td>\n",
       "      <td>0.164384</td>\n",
       "      <td>0.044765</td>\n",
       "    </tr>\n",
       "    <tr>\n",
       "      <th>4</th>\n",
       "      <td>0.034483</td>\n",
       "      <td>0.25</td>\n",
       "      <td>0.476190</td>\n",
       "      <td>0.722222</td>\n",
       "      <td>0.479452</td>\n",
       "      <td>0.199010</td>\n",
       "    </tr>\n",
       "    <tr>\n",
       "      <th>...</th>\n",
       "      <td>...</td>\n",
       "      <td>...</td>\n",
       "      <td>...</td>\n",
       "      <td>...</td>\n",
       "      <td>...</td>\n",
       "      <td>...</td>\n",
       "    </tr>\n",
       "    <tr>\n",
       "      <th>452</th>\n",
       "      <td>0.965517</td>\n",
       "      <td>0.25</td>\n",
       "      <td>0.047619</td>\n",
       "      <td>0.722222</td>\n",
       "      <td>0.500000</td>\n",
       "      <td>0.088466</td>\n",
       "    </tr>\n",
       "    <tr>\n",
       "      <th>453</th>\n",
       "      <td>0.965517</td>\n",
       "      <td>0.50</td>\n",
       "      <td>0.333333</td>\n",
       "      <td>0.333333</td>\n",
       "      <td>0.287671</td>\n",
       "      <td>0.096217</td>\n",
       "    </tr>\n",
       "    <tr>\n",
       "      <th>454</th>\n",
       "      <td>0.965517</td>\n",
       "      <td>0.50</td>\n",
       "      <td>0.238095</td>\n",
       "      <td>0.222222</td>\n",
       "      <td>0.123288</td>\n",
       "      <td>0.034807</td>\n",
       "    </tr>\n",
       "    <tr>\n",
       "      <th>455</th>\n",
       "      <td>0.965517</td>\n",
       "      <td>0.00</td>\n",
       "      <td>0.333333</td>\n",
       "      <td>1.000000</td>\n",
       "      <td>0.650685</td>\n",
       "      <td>0.114906</td>\n",
       "    </tr>\n",
       "    <tr>\n",
       "      <th>456</th>\n",
       "      <td>0.965517</td>\n",
       "      <td>0.00</td>\n",
       "      <td>0.333333</td>\n",
       "      <td>0.888889</td>\n",
       "      <td>0.479452</td>\n",
       "      <td>0.036701</td>\n",
       "    </tr>\n",
       "  </tbody>\n",
       "</table>\n",
       "<p>457 rows × 6 columns</p>\n",
       "</div>"
      ],
      "text/plain": [
       "         Team  Position       Age    Height    Weight    Salary\n",
       "0    0.034483      0.50  0.285714  0.277778  0.130137  0.308359\n",
       "1    0.034483      0.75  0.285714  0.500000  0.506849  0.270944\n",
       "2    0.034483      1.00  0.380952  0.444444  0.301370  0.192710\n",
       "3    0.034483      1.00  0.142857  0.444444  0.164384  0.044765\n",
       "4    0.034483      0.25  0.476190  0.722222  0.479452  0.199010\n",
       "..        ...       ...       ...       ...       ...       ...\n",
       "452  0.965517      0.25  0.047619  0.722222  0.500000  0.088466\n",
       "453  0.965517      0.50  0.333333  0.333333  0.287671  0.096217\n",
       "454  0.965517      0.50  0.238095  0.222222  0.123288  0.034807\n",
       "455  0.965517      0.00  0.333333  1.000000  0.650685  0.114906\n",
       "456  0.965517      0.00  0.333333  0.888889  0.479452  0.036701\n",
       "\n",
       "[457 rows x 6 columns]"
      ]
     },
     "execution_count": 24,
     "metadata": {},
     "output_type": "execute_result"
    }
   ],
   "source": [
    "#8 Improving my results. Since I already ran all of the models for comparison,\n",
    "# Im going to try and take away another column to see if that helps with the model.\n",
    "\n",
    "NBA_Best = NBA_normalized.drop(['CollegeDegree'], axis = 1)\n",
    "NBA_Best\n"
   ]
  },
  {
   "cell_type": "code",
   "execution_count": 25,
   "metadata": {
    "id": "O3TsO5-k0a4r"
   },
   "outputs": [],
   "source": [
    "response_best = NBA_Best[['Salary']]\n",
    "feature_best = NBA_Best.iloc[:,0:5]\n",
    "\n",
    "from sklearn.model_selection import train_test_split\n",
    "split = train_test_split(feature_best, response_best, test_size=0.2, random_state=2)\n",
    "\n",
    "feature_train = split[0]\n",
    "feature_test = split[1]\n",
    "response_train = split[2]\n",
    "response_test = split[3]\n",
    "\n",
    "from sklearn.linear_model import LinearRegression\n",
    "LR_best = LinearRegression()\n",
    "LR_best.fit(feature_train, response_train)\n",
    "response_prediction_new = LR_best.predict(feature_test)\n"
   ]
  },
  {
   "cell_type": "code",
   "execution_count": 26,
   "metadata": {
    "colab": {
     "base_uri": "https://localhost:8080/",
     "height": 102
    },
    "id": "yMFV5a9S10B7",
    "outputId": "5bd02ff5-7b18-498b-e8f5-a0b6e14cee1f"
   },
   "outputs": [
    {
     "name": "stdout",
     "output_type": "stream",
     "text": [
      "\u001b[1mBest Model Errors\n",
      "\u001b[0m\n",
      "Mean Absolute Error: 0.13059314879569325\n",
      "Mean Squared Error: 0.035268427117270414\n",
      "Root Mean Squared Error: 0.18779890073498942\n"
     ]
    }
   ],
   "source": [
    "# Reporting results from the updated dataset\n",
    "import numpy as np\n",
    "from sklearn import metrics\n",
    "print('\\033[1m' + 'Best Model Errors') \n",
    "print('\\033[0m')\n",
    "print('Mean Absolute Error:', metrics.mean_absolute_error(response_test, response_prediction_new))\n",
    "print('Mean Squared Error:', metrics.mean_squared_error(response_test, response_prediction_new))\n",
    "print('Root Mean Squared Error:', np.sqrt(metrics.mean_squared_error(response_test, response_prediction_new)))\n"
   ]
  }
 ],
 "metadata": {
  "colab": {
   "collapsed_sections": [],
   "name": "JustinWard_FinalProject.ipynb",
   "provenance": []
  },
  "kernelspec": {
   "display_name": "Python 3",
   "language": "python",
   "name": "python3"
  },
  "language_info": {
   "codemirror_mode": {
    "name": "ipython",
    "version": 3
   },
   "file_extension": ".py",
   "mimetype": "text/x-python",
   "name": "python",
   "nbconvert_exporter": "python",
   "pygments_lexer": "ipython3",
   "version": "3.8.5"
  }
 },
 "nbformat": 4,
 "nbformat_minor": 1
}
